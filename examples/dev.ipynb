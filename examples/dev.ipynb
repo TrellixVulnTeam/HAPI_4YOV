{
 "cells": [
  {
   "cell_type": "code",
   "execution_count": 1,
   "metadata": {},
   "outputs": [],
   "source": [
    "%load_ext autoreload\n",
    "%autoreload 2"
   ]
  },
  {
   "cell_type": "code",
   "execution_count": 5,
   "metadata": {},
   "outputs": [
    {
     "data": {
      "text/plain": [
       "'posix'"
      ]
     },
     "execution_count": 5,
     "metadata": {},
     "output_type": "execute_result"
    }
   ],
   "source": [
    "import os\n",
    "os.name"
   ]
  },
  {
   "cell_type": "code",
   "execution_count": 6,
   "metadata": {},
   "outputs": [
    {
     "name": "stderr",
     "output_type": "stream",
     "text": [
      "  % Total    % Received % Xferd  Average Speed   Time    Time     Time  Current\n",
      "                                 Dload  Upload   Total   Spent    Left  Speed\n",
      "100 1907M  100 1907M    0     0  4292k      0  0:07:34  0:07:34 --:--:-- 2190k\n"
     ]
    }
   ],
   "source": [
    "from meerkat.contrib.pascal import build_pascal_2012_dp\n",
    "build_pascal_2012_dp(dataset_dir=\"/Users/eyubogln/data/pascal\", download=True)"
   ]
  },
  {
   "cell_type": "code",
   "execution_count": 9,
   "metadata": {},
   "outputs": [
    {
     "name": "stderr",
     "output_type": "stream",
     "text": [
      "100%|██████████| 4/4 [00:00<00:00, 24.51it/s]\n"
     ]
    },
    {
     "data": {
      "text/plain": [
       "dict_keys(['mic/pascal/google_mic/20-10-28', 'mic/pascal/microsoft_mic/20-10-28', 'mic/pascal/google_mic/22-02-14_v080', 'mic/pascal/microsoft_mic/22-02-14_v080'])"
      ]
     },
     "execution_count": 9,
     "metadata": {},
     "output_type": "execute_result"
    }
   ],
   "source": [
    "import hapi\n",
    "hapi.config.data_dir = \"/Users/eyubogln/code/hapi/data/tasks\"\n",
    "hapi.get_predictions(task=\"mic\", dataset=\"pascal\", api=[\"google_mic\", \"microsoft_mic\"]).keys()"
   ]
  },
  {
   "cell_type": "code",
   "execution_count": 10,
   "metadata": {},
   "outputs": [
    {
     "name": "stderr",
     "output_type": "stream",
     "text": [
      "  0%|          | 0/2 [00:00<?, ?it/s]\n"
     ]
    },
    {
     "ename": "AttributeError",
     "evalue": "module 'posixpath' has no attribute 'splittext'",
     "output_type": "error",
     "traceback": [
      "\u001b[0;31m---------------------------------------------------------------------------\u001b[0m",
      "\u001b[0;31mAttributeError\u001b[0m                            Traceback (most recent call last)",
      "\u001b[1;32m/Users/eyubogln/code/hapi/examples/dev.ipynb Cell 3'\u001b[0m in \u001b[0;36m<cell line: 1>\u001b[0;34m()\u001b[0m\n\u001b[0;32m----> <a href='vscode-notebook-cell:/Users/eyubogln/code/hapi/examples/dev.ipynb#ch0000010?line=0'>1</a>\u001b[0m hapi\u001b[39m.\u001b[39;49mget_predictions(task\u001b[39m=\u001b[39;49m\u001b[39m\"\u001b[39;49m\u001b[39mmic\u001b[39;49m\u001b[39m\"\u001b[39;49m, dataset\u001b[39m=\u001b[39;49m\u001b[39m\"\u001b[39;49m\u001b[39mcoco\u001b[39;49m\u001b[39m\"\u001b[39;49m, api\u001b[39m=\u001b[39;49m\u001b[39m\"\u001b[39;49m\u001b[39mgoogle_mic\u001b[39;49m\u001b[39m\"\u001b[39;49m)\n",
      "File \u001b[0;32m~/code/hapi/hapi/__init__.py:85\u001b[0m, in \u001b[0;36mget_predictions\u001b[0;34m(task, dataset, api, date)\u001b[0m\n\u001b[1;32m     <a href='file:///Users/eyubogln/code/hapi/hapi/__init__.py?line=82'>83</a>\u001b[0m preds \u001b[39m=\u001b[39m {}\n\u001b[1;32m     <a href='file:///Users/eyubogln/code/hapi/hapi/__init__.py?line=83'>84</a>\u001b[0m \u001b[39mfor\u001b[39;00m path \u001b[39min\u001b[39;00m tqdm(df[\u001b[39m\"\u001b[39m\u001b[39mpath\u001b[39m\u001b[39m\"\u001b[39m]):\n\u001b[0;32m---> <a href='file:///Users/eyubogln/code/hapi/hapi/__init__.py?line=84'>85</a>\u001b[0m     preds[os\u001b[39m.\u001b[39;49mpath\u001b[39m.\u001b[39;49msplittext(path)[\u001b[39m0\u001b[39m]] \u001b[39m=\u001b[39m json\u001b[39m.\u001b[39mload(\n\u001b[1;32m     <a href='file:///Users/eyubogln/code/hapi/hapi/__init__.py?line=85'>86</a>\u001b[0m         \u001b[39mopen\u001b[39m(os\u001b[39m.\u001b[39mpath\u001b[39m.\u001b[39mjoin(config\u001b[39m.\u001b[39mdata_dir, path))\n\u001b[1;32m     <a href='file:///Users/eyubogln/code/hapi/hapi/__init__.py?line=86'>87</a>\u001b[0m     )\n\u001b[1;32m     <a href='file:///Users/eyubogln/code/hapi/hapi/__init__.py?line=87'>88</a>\u001b[0m \u001b[39mreturn\u001b[39;00m preds\n",
      "\u001b[0;31mAttributeError\u001b[0m: module 'posixpath' has no attribute 'splittext'"
     ]
    }
   ],
   "source": [
    "hapi.get_predictions(task=\"mic\", dataset=\"coco\", api=\"google_mic\")"
   ]
  },
  {
   "cell_type": "code",
   "execution_count": 8,
   "metadata": {},
   "outputs": [],
   "source": [
    "dp = mk.DataPanel.read(\"/Users/eyubogln/code/hapi/data/tasks/str/lsvt/google_str/20-09-20.mk\")"
   ]
  },
  {
   "cell_type": "code",
   "execution_count": 12,
   "metadata": {},
   "outputs": [],
   "source": [
    "data = dp.to_pandas().to_dict(orient=\"records\")"
   ]
  },
  {
   "cell_type": "code",
   "execution_count": 10,
   "metadata": {},
   "outputs": [
    {
     "data": {
      "text/html": [
       "<div>\n",
       "<style scoped>\n",
       "    .dataframe tbody tr th:only-of-type {\n",
       "        vertical-align: middle;\n",
       "    }\n",
       "\n",
       "    .dataframe tbody tr th {\n",
       "        vertical-align: top;\n",
       "    }\n",
       "\n",
       "    .dataframe thead th {\n",
       "        text-align: right;\n",
       "    }\n",
       "</style>\n",
       "<table border=\"1\" class=\"dataframe\">\n",
       "  <thead>\n",
       "    <tr style=\"text-align: right;\">\n",
       "      <th></th>\n",
       "      <th>task</th>\n",
       "      <th>dataset</th>\n",
       "      <th>api</th>\n",
       "      <th>date</th>\n",
       "      <th>path</th>\n",
       "      <th>cost_per_10k</th>\n",
       "    </tr>\n",
       "  </thead>\n",
       "  <tbody>\n",
       "    <tr>\n",
       "      <th>0</th>\n",
       "      <td>scr</td>\n",
       "      <td>command</td>\n",
       "      <td>ibm_scr</td>\n",
       "      <td>20-03-29</td>\n",
       "      <td>scr/command/ibm_scr/20-03-29.json</td>\n",
       "      <td>25.00</td>\n",
       "    </tr>\n",
       "    <tr>\n",
       "      <th>1</th>\n",
       "      <td>scr</td>\n",
       "      <td>command</td>\n",
       "      <td>deepspeech_lib_scr</td>\n",
       "      <td>20-03-29</td>\n",
       "      <td>scr/command/deepspeech_lib_scr/20-03-29.json</td>\n",
       "      <td>0.02</td>\n",
       "    </tr>\n",
       "    <tr>\n",
       "      <th>2</th>\n",
       "      <td>scr</td>\n",
       "      <td>command</td>\n",
       "      <td>google_scr</td>\n",
       "      <td>20-03-29</td>\n",
       "      <td>scr/command/google_scr/20-03-29.json</td>\n",
       "      <td>60.00</td>\n",
       "    </tr>\n",
       "    <tr>\n",
       "      <th>3</th>\n",
       "      <td>scr</td>\n",
       "      <td>command</td>\n",
       "      <td>microsoft_scr</td>\n",
       "      <td>20-03-29</td>\n",
       "      <td>scr/command/microsoft_scr/20-03-29.json</td>\n",
       "      <td>41.00</td>\n",
       "    </tr>\n",
       "    <tr>\n",
       "      <th>4</th>\n",
       "      <td>scr</td>\n",
       "      <td>command</td>\n",
       "      <td>google_scr</td>\n",
       "      <td>22-05-23</td>\n",
       "      <td>scr/command/google_scr/22-05-23.json</td>\n",
       "      <td>60.00</td>\n",
       "    </tr>\n",
       "    <tr>\n",
       "      <th>...</th>\n",
       "      <td>...</td>\n",
       "      <td>...</td>\n",
       "      <td>...</td>\n",
       "      <td>...</td>\n",
       "      <td>...</td>\n",
       "      <td>...</td>\n",
       "    </tr>\n",
       "    <tr>\n",
       "      <th>171</th>\n",
       "      <td>fer</td>\n",
       "      <td>ferplus</td>\n",
       "      <td>facepp_fer</td>\n",
       "      <td>22-05-23</td>\n",
       "      <td>fer/ferplus/facepp_fer/22-05-23.json</td>\n",
       "      <td>5.00</td>\n",
       "    </tr>\n",
       "    <tr>\n",
       "      <th>172</th>\n",
       "      <td>fer</td>\n",
       "      <td>ferplus</td>\n",
       "      <td>microsoft_fer</td>\n",
       "      <td>22-05-23</td>\n",
       "      <td>fer/ferplus/microsoft_fer/22-05-23.json</td>\n",
       "      <td>5.00</td>\n",
       "    </tr>\n",
       "    <tr>\n",
       "      <th>173</th>\n",
       "      <td>sa</td>\n",
       "      <td>imdb</td>\n",
       "      <td>baidu_sa</td>\n",
       "      <td>21-02-21</td>\n",
       "      <td>sa/imdb/baidu_sa/21-02-21.json</td>\n",
       "      <td>3.50</td>\n",
       "    </tr>\n",
       "    <tr>\n",
       "      <th>174</th>\n",
       "      <td>sa</td>\n",
       "      <td>imdb</td>\n",
       "      <td>google_sa</td>\n",
       "      <td>21-02-21</td>\n",
       "      <td>sa/imdb/google_sa/21-02-21.json</td>\n",
       "      <td>2.50</td>\n",
       "    </tr>\n",
       "    <tr>\n",
       "      <th>175</th>\n",
       "      <td>sa</td>\n",
       "      <td>imdb</td>\n",
       "      <td>amazon_sa</td>\n",
       "      <td>21-02-21</td>\n",
       "      <td>sa/imdb/amazon_sa/21-02-21.json</td>\n",
       "      <td>0.75</td>\n",
       "    </tr>\n",
       "  </tbody>\n",
       "</table>\n",
       "<p>176 rows × 6 columns</p>\n",
       "</div>"
      ],
      "text/plain": [
       "    task  dataset                 api      date  \\\n",
       "0    scr  command             ibm_scr  20-03-29   \n",
       "1    scr  command  deepspeech_lib_scr  20-03-29   \n",
       "2    scr  command          google_scr  20-03-29   \n",
       "3    scr  command       microsoft_scr  20-03-29   \n",
       "4    scr  command          google_scr  22-05-23   \n",
       "..   ...      ...                 ...       ...   \n",
       "171  fer  ferplus          facepp_fer  22-05-23   \n",
       "172  fer  ferplus       microsoft_fer  22-05-23   \n",
       "173   sa     imdb            baidu_sa  21-02-21   \n",
       "174   sa     imdb           google_sa  21-02-21   \n",
       "175   sa     imdb           amazon_sa  21-02-21   \n",
       "\n",
       "                                             path  cost_per_10k  \n",
       "0               scr/command/ibm_scr/20-03-29.json         25.00  \n",
       "1    scr/command/deepspeech_lib_scr/20-03-29.json          0.02  \n",
       "2            scr/command/google_scr/20-03-29.json         60.00  \n",
       "3         scr/command/microsoft_scr/20-03-29.json         41.00  \n",
       "4            scr/command/google_scr/22-05-23.json         60.00  \n",
       "..                                            ...           ...  \n",
       "171          fer/ferplus/facepp_fer/22-05-23.json          5.00  \n",
       "172       fer/ferplus/microsoft_fer/22-05-23.json          5.00  \n",
       "173                sa/imdb/baidu_sa/21-02-21.json          3.50  \n",
       "174               sa/imdb/google_sa/21-02-21.json          2.50  \n",
       "175               sa/imdb/amazon_sa/21-02-21.json          0.75  \n",
       "\n",
       "[176 rows x 6 columns]"
      ]
     },
     "execution_count": 10,
     "metadata": {},
     "output_type": "execute_result"
    }
   ],
   "source": [
    "hapi.list()"
   ]
  },
  {
   "cell_type": "code",
   "execution_count": 2,
   "metadata": {},
   "outputs": [],
   "source": [
    "import hub\n",
    "\n",
    "ds = hub.load(\"hub://activeloop/spoken_mnist\")"
   ]
  },
  {
   "cell_type": "code",
   "execution_count": 21,
   "metadata": {},
   "outputs": [
    {
     "name": "stderr",
     "output_type": "stream",
     "text": [
      "Cloning into '/Users/eyubogln/data/fsdd'...\n"
     ]
    }
   ],
   "source": [
    "from meerkat.contrib.fsdd import _download\n",
    "\n",
    "_download(\"/Users/eyubogln/data/fsdd\")"
   ]
  },
  {
   "cell_type": "code",
   "execution_count": 22,
   "metadata": {},
   "outputs": [
    {
     "data": {
      "text/plain": [
       "Dataset(path='hub://activeloop/spoken_mnist', read_only=True, tensors=['spectrograms', 'labels', 'audio', 'speakers'])"
      ]
     },
     "execution_count": 22,
     "metadata": {},
     "output_type": "execute_result"
    }
   ],
   "source": [
    "ds"
   ]
  },
  {
   "cell_type": "code",
   "execution_count": 24,
   "metadata": {},
   "outputs": [
    {
     "data": {
      "text/html": [
       "<div>\n",
       "<style scoped>\n",
       "    .dataframe tbody tr th:only-of-type {\n",
       "        vertical-align: middle;\n",
       "    }\n",
       "\n",
       "    .dataframe tbody tr th {\n",
       "        vertical-align: top;\n",
       "    }\n",
       "\n",
       "    .dataframe thead th {\n",
       "        text-align: right;\n",
       "    }\n",
       "</style>\n",
       "<table border=\"1\" class=\"dataframe\">\n",
       "  <thead>\n",
       "    <tr style=\"text-align: right;\">\n",
       "      <th></th>\n",
       "      <th>image_name</th>\n",
       "      <th>confidence</th>\n",
       "      <th>original_predicted_label</th>\n",
       "      <th>example_id</th>\n",
       "    </tr>\n",
       "  </thead>\n",
       "  <tbody>\n",
       "    <tr>\n",
       "      <th>0</th>\n",
       "      <td>AudioMNIST_0_01_0.wav</td>\n",
       "      <td>0.691792</td>\n",
       "      <td>6</td>\n",
       "      <td>AudioMNIST_0_01_0.wav</td>\n",
       "    </tr>\n",
       "    <tr>\n",
       "      <th>1</th>\n",
       "      <td>AudioMNIST_0_01_1.wav</td>\n",
       "      <td>0.706517</td>\n",
       "      <td>6</td>\n",
       "      <td>AudioMNIST_0_01_1.wav</td>\n",
       "    </tr>\n",
       "    <tr>\n",
       "      <th>2</th>\n",
       "      <td>AudioMNIST_0_01_10.wav</td>\n",
       "      <td>0.630332</td>\n",
       "      <td>0</td>\n",
       "      <td>AudioMNIST_0_01_10.wav</td>\n",
       "    </tr>\n",
       "    <tr>\n",
       "      <th>3</th>\n",
       "      <td>AudioMNIST_0_01_11.wav</td>\n",
       "      <td>0.636399</td>\n",
       "      <td>0</td>\n",
       "      <td>AudioMNIST_0_01_11.wav</td>\n",
       "    </tr>\n",
       "    <tr>\n",
       "      <th>4</th>\n",
       "      <td>AudioMNIST_0_01_12.wav</td>\n",
       "      <td>0.798487</td>\n",
       "      <td>0</td>\n",
       "      <td>AudioMNIST_0_01_12.wav</td>\n",
       "    </tr>\n",
       "    <tr>\n",
       "      <th>...</th>\n",
       "      <td>...</td>\n",
       "      <td>...</td>\n",
       "      <td>...</td>\n",
       "      <td>...</td>\n",
       "    </tr>\n",
       "    <tr>\n",
       "      <th>29995</th>\n",
       "      <td>AudioMNIST_9_60_5.wav</td>\n",
       "      <td>0.651034</td>\n",
       "      <td>9</td>\n",
       "      <td>AudioMNIST_9_60_5.wav</td>\n",
       "    </tr>\n",
       "    <tr>\n",
       "      <th>29996</th>\n",
       "      <td>AudioMNIST_9_60_6.wav</td>\n",
       "      <td>0.806397</td>\n",
       "      <td>9</td>\n",
       "      <td>AudioMNIST_9_60_6.wav</td>\n",
       "    </tr>\n",
       "    <tr>\n",
       "      <th>29997</th>\n",
       "      <td>AudioMNIST_9_60_7.wav</td>\n",
       "      <td>0.778751</td>\n",
       "      <td>9</td>\n",
       "      <td>AudioMNIST_9_60_7.wav</td>\n",
       "    </tr>\n",
       "    <tr>\n",
       "      <th>29998</th>\n",
       "      <td>AudioMNIST_9_60_8.wav</td>\n",
       "      <td>0.621300</td>\n",
       "      <td>9</td>\n",
       "      <td>AudioMNIST_9_60_8.wav</td>\n",
       "    </tr>\n",
       "    <tr>\n",
       "      <th>29999</th>\n",
       "      <td>AudioMNIST_9_60_9.wav</td>\n",
       "      <td>0.801404</td>\n",
       "      <td>9</td>\n",
       "      <td>AudioMNIST_9_60_9.wav</td>\n",
       "    </tr>\n",
       "  </tbody>\n",
       "</table>\n",
       "<p>30000 rows × 4 columns</p>\n",
       "</div>"
      ],
      "text/plain": [
       "                   image_name  confidence  original_predicted_label  \\\n",
       "0       AudioMNIST_0_01_0.wav    0.691792                         6   \n",
       "1       AudioMNIST_0_01_1.wav    0.706517                         6   \n",
       "2      AudioMNIST_0_01_10.wav    0.630332                         0   \n",
       "3      AudioMNIST_0_01_11.wav    0.636399                         0   \n",
       "4      AudioMNIST_0_01_12.wav    0.798487                         0   \n",
       "...                       ...         ...                       ...   \n",
       "29995   AudioMNIST_9_60_5.wav    0.651034                         9   \n",
       "29996   AudioMNIST_9_60_6.wav    0.806397                         9   \n",
       "29997   AudioMNIST_9_60_7.wav    0.778751                         9   \n",
       "29998   AudioMNIST_9_60_8.wav    0.621300                         9   \n",
       "29999   AudioMNIST_9_60_9.wav    0.801404                         9   \n",
       "\n",
       "                   example_id  \n",
       "0       AudioMNIST_0_01_0.wav  \n",
       "1       AudioMNIST_0_01_1.wav  \n",
       "2      AudioMNIST_0_01_10.wav  \n",
       "3      AudioMNIST_0_01_11.wav  \n",
       "4      AudioMNIST_0_01_12.wav  \n",
       "...                       ...  \n",
       "29995   AudioMNIST_9_60_5.wav  \n",
       "29996   AudioMNIST_9_60_6.wav  \n",
       "29997   AudioMNIST_9_60_7.wav  \n",
       "29998   AudioMNIST_9_60_8.wav  \n",
       "29999   AudioMNIST_9_60_9.wav  \n",
       "\n",
       "[30000 rows x 4 columns]"
      ]
     },
     "execution_count": 24,
     "metadata": {},
     "output_type": "execute_result"
    }
   ],
   "source": [
    "import pandas as pd \n",
    "df = pd.read_json(\n",
    "    \"/Users/eyubogln/code/hapi/data/tasks/scr/amnist/google_scr/20-03-29.json\"\n",
    ")\n",
    "df"
   ]
  },
  {
   "cell_type": "code",
   "execution_count": null,
   "metadata": {},
   "outputs": [],
   "source": []
  }
 ],
 "metadata": {
  "interpreter": {
   "hash": "7dc70abeb586db4fbbb19fd8ec040a8328b2a3c884b1c8ab3f626b1589cb18a0"
  },
  "kernelspec": {
   "display_name": "Python 3.8.13 ('domino')",
   "language": "python",
   "name": "python3"
  },
  "language_info": {
   "codemirror_mode": {
    "name": "ipython",
    "version": 3
   },
   "file_extension": ".py",
   "mimetype": "text/x-python",
   "name": "python",
   "nbconvert_exporter": "python",
   "pygments_lexer": "ipython3",
   "version": "3.8.13"
  },
  "orig_nbformat": 4
 },
 "nbformat": 4,
 "nbformat_minor": 2
}
