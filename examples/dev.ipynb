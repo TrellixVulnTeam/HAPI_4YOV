{
 "cells": [
  {
   "cell_type": "code",
   "execution_count": 1,
   "metadata": {},
   "outputs": [],
   "source": [
    "import meerkat as mk"
   ]
  },
  {
   "cell_type": "code",
   "execution_count": 8,
   "metadata": {},
   "outputs": [],
   "source": [
    "dp = mk.DataPanel.read(\"/Users/eyubogln/code/hapi/data/tasks/str/lsvt/google_str/20-09-20.mk\")"
   ]
  },
  {
   "cell_type": "code",
   "execution_count": 12,
   "metadata": {},
   "outputs": [],
   "source": [
    "data = dp.to_pandas().to_dict(orient=\"records\")"
   ]
  },
  {
   "cell_type": "code",
   "execution_count": 14,
   "metadata": {},
   "outputs": [
    {
     "data": {
      "text/plain": [
       "{'image_name': 'gt_23437.jpg',\n",
       " 'context': 10,\n",
       " 'confidence': 0.0,\n",
       " 'example_id': 'gt_23437',\n",
       " 'predicted_label': ['六 | ズ',\n",
       "  '西安 酿皮',\n",
       "  'SAELA',\n",
       "  '0锅米线冰粥',\n",
       "  'CORE',\n",
       "  '69',\n",
       "  'G',\n",
       "  '砂辑面扒糕热米皮县一这一',\n",
       "  'DA',\n",
       "  '本 .',\n",
       "  'w']}"
      ]
     },
     "execution_count": 14,
     "metadata": {},
     "output_type": "execute_result"
    }
   ],
   "source": [
    "data[0]"
   ]
  },
  {
   "cell_type": "code",
   "execution_count": 15,
   "metadata": {},
   "outputs": [],
   "source": [
    "import hub\n",
    "\n",
    "ds = hub.load(\"hub://activeloop/spoken_mnist\")"
   ]
  },
  {
   "cell_type": "code",
   "execution_count": 22,
   "metadata": {},
   "outputs": [
    {
     "ename": "ModuleNotFoundError",
     "evalue": "PyAV is not installed. Please run `pip install hub[audio]`",
     "output_type": "error",
     "traceback": [
      "\u001b[0;31m---------------------------------------------------------------------------\u001b[0m",
      "\u001b[0;31mModuleNotFoundError\u001b[0m                       Traceback (most recent call last)",
      "\u001b[1;32m/Users/eyubogln/code/hapi/examples/dev.ipynb Cell 6'\u001b[0m in \u001b[0;36m<cell line: 1>\u001b[0;34m()\u001b[0m\n\u001b[0;32m----> <a href='vscode-notebook-cell:/Users/eyubogln/code/hapi/examples/dev.ipynb#ch0000005?line=0'>1</a>\u001b[0m ds\u001b[39m.\u001b[39;49maudio[\u001b[39m0\u001b[39;49m]\u001b[39m.\u001b[39;49mnumpy()\n",
      "File \u001b[0;32m~/miniconda3/envs/domino/lib/python3.8/site-packages/hub/core/tensor.py:673\u001b[0m, in \u001b[0;36mTensor.numpy\u001b[0;34m(self, aslist, fetch_chunks)\u001b[0m\n\u001b[1;32m    <a href='file:///Users/eyubogln/miniconda3/envs/domino/lib/python3.8/site-packages/hub/core/tensor.py?line=653'>654</a>\u001b[0m \u001b[39m\"\"\"Computes the contents of the tensor in numpy format.\u001b[39;00m\n\u001b[1;32m    <a href='file:///Users/eyubogln/miniconda3/envs/domino/lib/python3.8/site-packages/hub/core/tensor.py?line=654'>655</a>\u001b[0m \n\u001b[1;32m    <a href='file:///Users/eyubogln/miniconda3/envs/domino/lib/python3.8/site-packages/hub/core/tensor.py?line=655'>656</a>\u001b[0m \u001b[39mArgs:\u001b[39;00m\n\u001b[0;32m   (...)\u001b[0m\n\u001b[1;32m    <a href='file:///Users/eyubogln/miniconda3/envs/domino/lib/python3.8/site-packages/hub/core/tensor.py?line=669'>670</a>\u001b[0m \u001b[39m    A numpy array containing the data represented by this tensor.\u001b[39;00m\n\u001b[1;32m    <a href='file:///Users/eyubogln/miniconda3/envs/domino/lib/python3.8/site-packages/hub/core/tensor.py?line=670'>671</a>\u001b[0m \u001b[39m\"\"\"\u001b[39;00m\n\u001b[1;32m    <a href='file:///Users/eyubogln/miniconda3/envs/domino/lib/python3.8/site-packages/hub/core/tensor.py?line=671'>672</a>\u001b[0m \u001b[39mself\u001b[39m\u001b[39m.\u001b[39mcheck_link_ready()\n\u001b[0;32m--> <a href='file:///Users/eyubogln/miniconda3/envs/domino/lib/python3.8/site-packages/hub/core/tensor.py?line=672'>673</a>\u001b[0m \u001b[39mreturn\u001b[39;00m \u001b[39mself\u001b[39;49m\u001b[39m.\u001b[39;49mchunk_engine\u001b[39m.\u001b[39;49mnumpy(\n\u001b[1;32m    <a href='file:///Users/eyubogln/miniconda3/envs/domino/lib/python3.8/site-packages/hub/core/tensor.py?line=673'>674</a>\u001b[0m     \u001b[39mself\u001b[39;49m\u001b[39m.\u001b[39;49mindex, aslist\u001b[39m=\u001b[39;49maslist, fetch_chunks\u001b[39m=\u001b[39;49mfetch_chunks\n\u001b[1;32m    <a href='file:///Users/eyubogln/miniconda3/envs/domino/lib/python3.8/site-packages/hub/core/tensor.py?line=674'>675</a>\u001b[0m )\n",
      "File \u001b[0;32m~/miniconda3/envs/domino/lib/python3.8/site-packages/hub/core/chunk_engine.py:1280\u001b[0m, in \u001b[0;36mChunkEngine.numpy\u001b[0;34m(self, index, aslist, use_data_cache, fetch_chunks)\u001b[0m\n\u001b[1;32m   <a href='file:///Users/eyubogln/miniconda3/envs/domino/lib/python3.8/site-packages/hub/core/chunk_engine.py?line=1255'>1256</a>\u001b[0m \u001b[39mdef\u001b[39;00m \u001b[39mnumpy\u001b[39m(\n\u001b[1;32m   <a href='file:///Users/eyubogln/miniconda3/envs/domino/lib/python3.8/site-packages/hub/core/chunk_engine.py?line=1256'>1257</a>\u001b[0m     \u001b[39mself\u001b[39m,\n\u001b[1;32m   <a href='file:///Users/eyubogln/miniconda3/envs/domino/lib/python3.8/site-packages/hub/core/chunk_engine.py?line=1257'>1258</a>\u001b[0m     index: Index,\n\u001b[0;32m   (...)\u001b[0m\n\u001b[1;32m   <a href='file:///Users/eyubogln/miniconda3/envs/domino/lib/python3.8/site-packages/hub/core/chunk_engine.py?line=1260'>1261</a>\u001b[0m     fetch_chunks: \u001b[39mbool\u001b[39m \u001b[39m=\u001b[39m \u001b[39mFalse\u001b[39;00m,\n\u001b[1;32m   <a href='file:///Users/eyubogln/miniconda3/envs/domino/lib/python3.8/site-packages/hub/core/chunk_engine.py?line=1261'>1262</a>\u001b[0m ) \u001b[39m-\u001b[39m\u001b[39m>\u001b[39m Union[np\u001b[39m.\u001b[39mndarray, List[np\u001b[39m.\u001b[39mndarray]]:\n\u001b[1;32m   <a href='file:///Users/eyubogln/miniconda3/envs/domino/lib/python3.8/site-packages/hub/core/chunk_engine.py?line=1262'>1263</a>\u001b[0m     \u001b[39m\"\"\"Reads samples from chunks and returns as a numpy array. If `aslist=True`, returns a sequence of numpy arrays.\u001b[39;00m\n\u001b[1;32m   <a href='file:///Users/eyubogln/miniconda3/envs/domino/lib/python3.8/site-packages/hub/core/chunk_engine.py?line=1263'>1264</a>\u001b[0m \n\u001b[1;32m   <a href='file:///Users/eyubogln/miniconda3/envs/domino/lib/python3.8/site-packages/hub/core/chunk_engine.py?line=1264'>1265</a>\u001b[0m \u001b[39m    Args:\u001b[39;00m\n\u001b[0;32m   (...)\u001b[0m\n\u001b[1;32m   <a href='file:///Users/eyubogln/miniconda3/envs/domino/lib/python3.8/site-packages/hub/core/chunk_engine.py?line=1277'>1278</a>\u001b[0m \u001b[39m        Union[np.ndarray, List[np.ndarray]]: Either a list of numpy arrays or a single numpy array (depending on the `aslist` argument).\u001b[39;00m\n\u001b[1;32m   <a href='file:///Users/eyubogln/miniconda3/envs/domino/lib/python3.8/site-packages/hub/core/chunk_engine.py?line=1278'>1279</a>\u001b[0m \u001b[39m    \"\"\"\u001b[39;00m\n\u001b[0;32m-> <a href='file:///Users/eyubogln/miniconda3/envs/domino/lib/python3.8/site-packages/hub/core/chunk_engine.py?line=1279'>1280</a>\u001b[0m     \u001b[39mreturn\u001b[39;00m (\u001b[39mself\u001b[39;49m\u001b[39m.\u001b[39;49m_sequence_numpy \u001b[39mif\u001b[39;49;00m \u001b[39mself\u001b[39;49m\u001b[39m.\u001b[39;49mis_sequence \u001b[39melse\u001b[39;49;00m \u001b[39mself\u001b[39;49m\u001b[39m.\u001b[39;49m_numpy)(\n\u001b[1;32m   <a href='file:///Users/eyubogln/miniconda3/envs/domino/lib/python3.8/site-packages/hub/core/chunk_engine.py?line=1280'>1281</a>\u001b[0m         index, aslist, use_data_cache, fetch_chunks\n\u001b[1;32m   <a href='file:///Users/eyubogln/miniconda3/envs/domino/lib/python3.8/site-packages/hub/core/chunk_engine.py?line=1281'>1282</a>\u001b[0m     )\n",
      "File \u001b[0;32m~/miniconda3/envs/domino/lib/python3.8/site-packages/hub/core/chunk_engine.py:1415\u001b[0m, in \u001b[0;36mChunkEngine._numpy\u001b[0;34m(self, index, aslist, use_data_cache, fetch_chunks)\u001b[0m\n\u001b[1;32m   <a href='file:///Users/eyubogln/miniconda3/envs/domino/lib/python3.8/site-packages/hub/core/chunk_engine.py?line=1412'>1413</a>\u001b[0m samples \u001b[39m=\u001b[39m []\n\u001b[1;32m   <a href='file:///Users/eyubogln/miniconda3/envs/domino/lib/python3.8/site-packages/hub/core/chunk_engine.py?line=1413'>1414</a>\u001b[0m \u001b[39mfor\u001b[39;00m global_sample_index \u001b[39min\u001b[39;00m index\u001b[39m.\u001b[39mvalues[\u001b[39m0\u001b[39m]\u001b[39m.\u001b[39mindices(length):\n\u001b[0;32m-> <a href='file:///Users/eyubogln/miniconda3/envs/domino/lib/python3.8/site-packages/hub/core/chunk_engine.py?line=1414'>1415</a>\u001b[0m     sample \u001b[39m=\u001b[39m \u001b[39mself\u001b[39;49m\u001b[39m.\u001b[39;49mget_single_sample(\n\u001b[1;32m   <a href='file:///Users/eyubogln/miniconda3/envs/domino/lib/python3.8/site-packages/hub/core/chunk_engine.py?line=1415'>1416</a>\u001b[0m         global_sample_index, index, fetch_chunks\u001b[39m=\u001b[39;49mfetch_chunks\n\u001b[1;32m   <a href='file:///Users/eyubogln/miniconda3/envs/domino/lib/python3.8/site-packages/hub/core/chunk_engine.py?line=1416'>1417</a>\u001b[0m     )\n\u001b[1;32m   <a href='file:///Users/eyubogln/miniconda3/envs/domino/lib/python3.8/site-packages/hub/core/chunk_engine.py?line=1417'>1418</a>\u001b[0m     samples\u001b[39m.\u001b[39mappend(sample)\n\u001b[1;32m   <a href='file:///Users/eyubogln/miniconda3/envs/domino/lib/python3.8/site-packages/hub/core/chunk_engine.py?line=1418'>1419</a>\u001b[0m     check_sample_shape(sample\u001b[39m.\u001b[39mshape, last_shape, \u001b[39mself\u001b[39m\u001b[39m.\u001b[39mkey, index, aslist)\n",
      "File \u001b[0;32m~/miniconda3/envs/domino/lib/python3.8/site-packages/hub/core/chunk_engine.py:1374\u001b[0m, in \u001b[0;36mChunkEngine.get_single_sample\u001b[0;34m(self, global_sample_index, index, fetch_chunks)\u001b[0m\n\u001b[1;32m   <a href='file:///Users/eyubogln/miniconda3/envs/domino/lib/python3.8/site-packages/hub/core/chunk_engine.py?line=1371'>1372</a>\u001b[0m \u001b[39mdef\u001b[39;00m \u001b[39mget_single_sample\u001b[39m(\u001b[39mself\u001b[39m, global_sample_index, index, fetch_chunks\u001b[39m=\u001b[39m\u001b[39mFalse\u001b[39;00m):\n\u001b[1;32m   <a href='file:///Users/eyubogln/miniconda3/envs/domino/lib/python3.8/site-packages/hub/core/chunk_engine.py?line=1372'>1373</a>\u001b[0m     \u001b[39mif\u001b[39;00m \u001b[39mnot\u001b[39;00m \u001b[39mself\u001b[39m\u001b[39m.\u001b[39m_is_tiled_sample(global_sample_index):\n\u001b[0;32m-> <a href='file:///Users/eyubogln/miniconda3/envs/domino/lib/python3.8/site-packages/hub/core/chunk_engine.py?line=1373'>1374</a>\u001b[0m         sample \u001b[39m=\u001b[39m \u001b[39mself\u001b[39;49m\u001b[39m.\u001b[39;49mget_non_tiled_sample(\n\u001b[1;32m   <a href='file:///Users/eyubogln/miniconda3/envs/domino/lib/python3.8/site-packages/hub/core/chunk_engine.py?line=1374'>1375</a>\u001b[0m             global_sample_index, index, fetch_chunks\u001b[39m=\u001b[39;49mfetch_chunks\n\u001b[1;32m   <a href='file:///Users/eyubogln/miniconda3/envs/domino/lib/python3.8/site-packages/hub/core/chunk_engine.py?line=1375'>1376</a>\u001b[0m         )\n\u001b[1;32m   <a href='file:///Users/eyubogln/miniconda3/envs/domino/lib/python3.8/site-packages/hub/core/chunk_engine.py?line=1376'>1377</a>\u001b[0m     \u001b[39melif\u001b[39;00m \u001b[39mlen\u001b[39m(index\u001b[39m.\u001b[39mvalues) \u001b[39m==\u001b[39m \u001b[39m1\u001b[39m:\n\u001b[1;32m   <a href='file:///Users/eyubogln/miniconda3/envs/domino/lib/python3.8/site-packages/hub/core/chunk_engine.py?line=1377'>1378</a>\u001b[0m         sample \u001b[39m=\u001b[39m \u001b[39mself\u001b[39m\u001b[39m.\u001b[39mget_full_tiled_sample(global_sample_index)\n",
      "File \u001b[0;32m~/miniconda3/envs/domino/lib/python3.8/site-packages/hub/core/chunk_engine.py:1344\u001b[0m, in \u001b[0;36mChunkEngine.get_non_tiled_sample\u001b[0;34m(self, global_sample_index, index, fetch_chunks)\u001b[0m\n\u001b[1;32m   <a href='file:///Users/eyubogln/miniconda3/envs/domino/lib/python3.8/site-packages/hub/core/chunk_engine.py?line=1341'>1342</a>\u001b[0m \u001b[39mif\u001b[39;00m \u001b[39mself\u001b[39m\u001b[39m.\u001b[39mcompression \u001b[39min\u001b[39;00m VIDEO_COMPRESSIONS \u001b[39mor\u001b[39;00m \u001b[39mself\u001b[39m\u001b[39m.\u001b[39mtensor_meta\u001b[39m.\u001b[39mhtype \u001b[39m==\u001b[39m \u001b[39m\"\u001b[39m\u001b[39mvideo\u001b[39m\u001b[39m\"\u001b[39m:\n\u001b[1;32m   <a href='file:///Users/eyubogln/miniconda3/envs/domino/lib/python3.8/site-packages/hub/core/chunk_engine.py?line=1342'>1343</a>\u001b[0m     \u001b[39mreturn\u001b[39;00m \u001b[39mself\u001b[39m\u001b[39m.\u001b[39mget_video_sample(global_sample_index, index)\n\u001b[0;32m-> <a href='file:///Users/eyubogln/miniconda3/envs/domino/lib/python3.8/site-packages/hub/core/chunk_engine.py?line=1343'>1344</a>\u001b[0m \u001b[39mreturn\u001b[39;00m \u001b[39mself\u001b[39;49m\u001b[39m.\u001b[39;49mget_basic_sample(\n\u001b[1;32m   <a href='file:///Users/eyubogln/miniconda3/envs/domino/lib/python3.8/site-packages/hub/core/chunk_engine.py?line=1344'>1345</a>\u001b[0m     global_sample_index, index, fetch_chunks\u001b[39m=\u001b[39;49mfetch_chunks\n\u001b[1;32m   <a href='file:///Users/eyubogln/miniconda3/envs/domino/lib/python3.8/site-packages/hub/core/chunk_engine.py?line=1345'>1346</a>\u001b[0m )\n",
      "File \u001b[0;32m~/miniconda3/envs/domino/lib/python3.8/site-packages/hub/core/chunk_engine.py:1337\u001b[0m, in \u001b[0;36mChunkEngine.get_basic_sample\u001b[0;34m(self, global_sample_index, index, fetch_chunks)\u001b[0m\n\u001b[1;32m   <a href='file:///Users/eyubogln/miniconda3/envs/domino/lib/python3.8/site-packages/hub/core/chunk_engine.py?line=1332'>1333</a>\u001b[0m local_sample_index \u001b[39m=\u001b[39m enc\u001b[39m.\u001b[39mtranslate_index_relative_to_chunks(global_sample_index)\n\u001b[1;32m   <a href='file:///Users/eyubogln/miniconda3/envs/domino/lib/python3.8/site-packages/hub/core/chunk_engine.py?line=1333'>1334</a>\u001b[0m chunk \u001b[39m=\u001b[39m \u001b[39mself\u001b[39m\u001b[39m.\u001b[39mget_chunk_from_chunk_id(\n\u001b[1;32m   <a href='file:///Users/eyubogln/miniconda3/envs/domino/lib/python3.8/site-packages/hub/core/chunk_engine.py?line=1334'>1335</a>\u001b[0m     chunk_id, partial_chunk_bytes\u001b[39m=\u001b[39mworst_case_header_size\n\u001b[1;32m   <a href='file:///Users/eyubogln/miniconda3/envs/domino/lib/python3.8/site-packages/hub/core/chunk_engine.py?line=1335'>1336</a>\u001b[0m )\n\u001b[0;32m-> <a href='file:///Users/eyubogln/miniconda3/envs/domino/lib/python3.8/site-packages/hub/core/chunk_engine.py?line=1336'>1337</a>\u001b[0m \u001b[39mreturn\u001b[39;00m chunk\u001b[39m.\u001b[39;49mread_sample(\n\u001b[1;32m   <a href='file:///Users/eyubogln/miniconda3/envs/domino/lib/python3.8/site-packages/hub/core/chunk_engine.py?line=1337'>1338</a>\u001b[0m     local_sample_index, cast\u001b[39m=\u001b[39;49m\u001b[39mself\u001b[39;49m\u001b[39m.\u001b[39;49mtensor_meta\u001b[39m.\u001b[39;49mhtype \u001b[39m!=\u001b[39;49m \u001b[39m\"\u001b[39;49m\u001b[39mdicom\u001b[39;49m\u001b[39m\"\u001b[39;49m\n\u001b[1;32m   <a href='file:///Users/eyubogln/miniconda3/envs/domino/lib/python3.8/site-packages/hub/core/chunk_engine.py?line=1338'>1339</a>\u001b[0m )[\u001b[39mtuple\u001b[39m(entry\u001b[39m.\u001b[39mvalue \u001b[39mfor\u001b[39;00m entry \u001b[39min\u001b[39;00m index\u001b[39m.\u001b[39mvalues[\u001b[39m1\u001b[39m:])]\n",
      "File \u001b[0;32m~/miniconda3/envs/domino/lib/python3.8/site-packages/hub/core/chunk/sample_compressed_chunk.py:107\u001b[0m, in \u001b[0;36mSampleCompressedChunk.read_sample\u001b[0;34m(self, local_index, cast, copy, sub_index, stream, decompress)\u001b[0m\n\u001b[1;32m    <a href='file:///Users/eyubogln/miniconda3/envs/domino/lib/python3.8/site-packages/hub/core/chunk/sample_compressed_chunk.py?line=103'>104</a>\u001b[0m \u001b[39mif\u001b[39;00m start \u001b[39m>\u001b[39m nframes:\n\u001b[1;32m    <a href='file:///Users/eyubogln/miniconda3/envs/domino/lib/python3.8/site-packages/hub/core/chunk/sample_compressed_chunk.py?line=104'>105</a>\u001b[0m     \u001b[39mraise\u001b[39;00m \u001b[39mIndexError\u001b[39;00m(\u001b[39m\"\u001b[39m\u001b[39mStart index out of bounds.\u001b[39m\u001b[39m\"\u001b[39m)\n\u001b[0;32m--> <a href='file:///Users/eyubogln/miniconda3/envs/domino/lib/python3.8/site-packages/hub/core/chunk/sample_compressed_chunk.py?line=106'>107</a>\u001b[0m sample \u001b[39m=\u001b[39m decompress_array(\n\u001b[1;32m    <a href='file:///Users/eyubogln/miniconda3/envs/domino/lib/python3.8/site-packages/hub/core/chunk/sample_compressed_chunk.py?line=107'>108</a>\u001b[0m     buffer,\n\u001b[1;32m    <a href='file:///Users/eyubogln/miniconda3/envs/domino/lib/python3.8/site-packages/hub/core/chunk/sample_compressed_chunk.py?line=108'>109</a>\u001b[0m     shape,\n\u001b[1;32m    <a href='file:///Users/eyubogln/miniconda3/envs/domino/lib/python3.8/site-packages/hub/core/chunk/sample_compressed_chunk.py?line=109'>110</a>\u001b[0m     \u001b[39mself\u001b[39;49m\u001b[39m.\u001b[39;49mdtype,\n\u001b[1;32m    <a href='file:///Users/eyubogln/miniconda3/envs/domino/lib/python3.8/site-packages/hub/core/chunk/sample_compressed_chunk.py?line=110'>111</a>\u001b[0m     \u001b[39mself\u001b[39;49m\u001b[39m.\u001b[39;49mcompression,\n\u001b[1;32m    <a href='file:///Users/eyubogln/miniconda3/envs/domino/lib/python3.8/site-packages/hub/core/chunk/sample_compressed_chunk.py?line=111'>112</a>\u001b[0m     start_idx\u001b[39m=\u001b[39;49mstart,\n\u001b[1;32m    <a href='file:///Users/eyubogln/miniconda3/envs/domino/lib/python3.8/site-packages/hub/core/chunk/sample_compressed_chunk.py?line=112'>113</a>\u001b[0m     end_idx\u001b[39m=\u001b[39;49mstop,\n\u001b[1;32m    <a href='file:///Users/eyubogln/miniconda3/envs/domino/lib/python3.8/site-packages/hub/core/chunk/sample_compressed_chunk.py?line=113'>114</a>\u001b[0m     step\u001b[39m=\u001b[39;49mstep,\n\u001b[1;32m    <a href='file:///Users/eyubogln/miniconda3/envs/domino/lib/python3.8/site-packages/hub/core/chunk/sample_compressed_chunk.py?line=114'>115</a>\u001b[0m     reverse\u001b[39m=\u001b[39;49mreverse,\n\u001b[1;32m    <a href='file:///Users/eyubogln/miniconda3/envs/domino/lib/python3.8/site-packages/hub/core/chunk/sample_compressed_chunk.py?line=115'>116</a>\u001b[0m )\n\u001b[1;32m    <a href='file:///Users/eyubogln/miniconda3/envs/domino/lib/python3.8/site-packages/hub/core/chunk/sample_compressed_chunk.py?line=117'>118</a>\u001b[0m \u001b[39mif\u001b[39;00m squeeze:\n\u001b[1;32m    <a href='file:///Users/eyubogln/miniconda3/envs/domino/lib/python3.8/site-packages/hub/core/chunk/sample_compressed_chunk.py?line=118'>119</a>\u001b[0m     sample \u001b[39m=\u001b[39m sample\u001b[39m.\u001b[39msqueeze(\u001b[39m0\u001b[39m)\n",
      "File \u001b[0;32m~/miniconda3/envs/domino/lib/python3.8/site-packages/hub/core/compression.py:281\u001b[0m, in \u001b[0;36mdecompress_array\u001b[0;34m(buffer, shape, dtype, compression, start_idx, end_idx, step, reverse)\u001b[0m\n\u001b[1;32m    <a href='file:///Users/eyubogln/miniconda3/envs/domino/lib/python3.8/site-packages/hub/core/compression.py?line=278'>279</a>\u001b[0m         \u001b[39mraise\u001b[39;00m SampleDecompressionError()\n\u001b[1;32m    <a href='file:///Users/eyubogln/miniconda3/envs/domino/lib/python3.8/site-packages/hub/core/compression.py?line=279'>280</a>\u001b[0m \u001b[39melif\u001b[39;00m compr_type \u001b[39m==\u001b[39m AUDIO_COMPRESSION:\n\u001b[0;32m--> <a href='file:///Users/eyubogln/miniconda3/envs/domino/lib/python3.8/site-packages/hub/core/compression.py?line=280'>281</a>\u001b[0m     \u001b[39mreturn\u001b[39;00m _decompress_audio(buffer)\n\u001b[1;32m    <a href='file:///Users/eyubogln/miniconda3/envs/domino/lib/python3.8/site-packages/hub/core/compression.py?line=281'>282</a>\u001b[0m \u001b[39melif\u001b[39;00m compr_type \u001b[39m==\u001b[39m VIDEO_COMPRESSION:\n\u001b[1;32m    <a href='file:///Users/eyubogln/miniconda3/envs/domino/lib/python3.8/site-packages/hub/core/compression.py?line=282'>283</a>\u001b[0m     \u001b[39mreturn\u001b[39;00m _decompress_video(buffer, start_idx, end_idx, step, reverse)  \u001b[39m# type: ignore\u001b[39;00m\n",
      "File \u001b[0;32m~/miniconda3/envs/domino/lib/python3.8/site-packages/hub/core/compression.py:1032\u001b[0m, in \u001b[0;36m_decompress_audio\u001b[0;34m(file)\u001b[0m\n\u001b[1;32m   <a href='file:///Users/eyubogln/miniconda3/envs/domino/lib/python3.8/site-packages/hub/core/compression.py?line=1028'>1029</a>\u001b[0m \u001b[39mdef\u001b[39;00m \u001b[39m_decompress_audio\u001b[39m(\n\u001b[1;32m   <a href='file:///Users/eyubogln/miniconda3/envs/domino/lib/python3.8/site-packages/hub/core/compression.py?line=1029'>1030</a>\u001b[0m     file: Union[\u001b[39mbytes\u001b[39m, \u001b[39mmemoryview\u001b[39m, \u001b[39mstr\u001b[39m],\n\u001b[1;32m   <a href='file:///Users/eyubogln/miniconda3/envs/domino/lib/python3.8/site-packages/hub/core/compression.py?line=1030'>1031</a>\u001b[0m ):\n\u001b[0;32m-> <a href='file:///Users/eyubogln/miniconda3/envs/domino/lib/python3.8/site-packages/hub/core/compression.py?line=1031'>1032</a>\u001b[0m     container, astream \u001b[39m=\u001b[39m _open_audio(file)\n\u001b[1;32m   <a href='file:///Users/eyubogln/miniconda3/envs/domino/lib/python3.8/site-packages/hub/core/compression.py?line=1032'>1033</a>\u001b[0m     shape \u001b[39m=\u001b[39m _read_shape_from_astream(container, astream)\n\u001b[1;32m   <a href='file:///Users/eyubogln/miniconda3/envs/domino/lib/python3.8/site-packages/hub/core/compression.py?line=1034'>1035</a>\u001b[0m     \u001b[39mif\u001b[39;00m shape[\u001b[39m0\u001b[39m] \u001b[39m==\u001b[39m \u001b[39m0\u001b[39m:\n",
      "File \u001b[0;32m~/miniconda3/envs/domino/lib/python3.8/site-packages/hub/core/compression.py:963\u001b[0m, in \u001b[0;36m_open_audio\u001b[0;34m(file)\u001b[0m\n\u001b[1;32m    <a href='file:///Users/eyubogln/miniconda3/envs/domino/lib/python3.8/site-packages/hub/core/compression.py?line=960'>961</a>\u001b[0m \u001b[39mdef\u001b[39;00m \u001b[39m_open_audio\u001b[39m(file: Union[\u001b[39mstr\u001b[39m, \u001b[39mbytes\u001b[39m, \u001b[39mmemoryview\u001b[39m]):\n\u001b[1;32m    <a href='file:///Users/eyubogln/miniconda3/envs/domino/lib/python3.8/site-packages/hub/core/compression.py?line=961'>962</a>\u001b[0m     \u001b[39mif\u001b[39;00m \u001b[39mnot\u001b[39;00m _PYAV_INSTALLED:\n\u001b[0;32m--> <a href='file:///Users/eyubogln/miniconda3/envs/domino/lib/python3.8/site-packages/hub/core/compression.py?line=962'>963</a>\u001b[0m         \u001b[39mraise\u001b[39;00m \u001b[39mModuleNotFoundError\u001b[39;00m(\n\u001b[1;32m    <a href='file:///Users/eyubogln/miniconda3/envs/domino/lib/python3.8/site-packages/hub/core/compression.py?line=963'>964</a>\u001b[0m             \u001b[39m\"\u001b[39m\u001b[39mPyAV is not installed. Please run `pip install hub[audio]`\u001b[39m\u001b[39m\"\u001b[39m\n\u001b[1;32m    <a href='file:///Users/eyubogln/miniconda3/envs/domino/lib/python3.8/site-packages/hub/core/compression.py?line=964'>965</a>\u001b[0m         )\n\u001b[1;32m    <a href='file:///Users/eyubogln/miniconda3/envs/domino/lib/python3.8/site-packages/hub/core/compression.py?line=965'>966</a>\u001b[0m     \u001b[39mif\u001b[39;00m \u001b[39misinstance\u001b[39m(file, \u001b[39mstr\u001b[39m):\n\u001b[1;32m    <a href='file:///Users/eyubogln/miniconda3/envs/domino/lib/python3.8/site-packages/hub/core/compression.py?line=966'>967</a>\u001b[0m         container \u001b[39m=\u001b[39m av\u001b[39m.\u001b[39mopen(\n\u001b[1;32m    <a href='file:///Users/eyubogln/miniconda3/envs/domino/lib/python3.8/site-packages/hub/core/compression.py?line=967'>968</a>\u001b[0m             file, options\u001b[39m=\u001b[39m{\u001b[39m\"\u001b[39m\u001b[39mprotocol_whitelist\u001b[39m\u001b[39m\"\u001b[39m: \u001b[39m\"\u001b[39m\u001b[39mfile,http,https,tcp,tls,subfile\u001b[39m\u001b[39m\"\u001b[39m}\n\u001b[1;32m    <a href='file:///Users/eyubogln/miniconda3/envs/domino/lib/python3.8/site-packages/hub/core/compression.py?line=968'>969</a>\u001b[0m         )\n",
      "\u001b[0;31mModuleNotFoundError\u001b[0m: PyAV is not installed. Please run `pip install hub[audio]`"
     ]
    }
   ],
   "source": [
    "ds.audio[0].numpy()"
   ]
  },
  {
   "cell_type": "code",
   "execution_count": null,
   "metadata": {},
   "outputs": [],
   "source": []
  }
 ],
 "metadata": {
  "interpreter": {
   "hash": "7dc70abeb586db4fbbb19fd8ec040a8328b2a3c884b1c8ab3f626b1589cb18a0"
  },
  "kernelspec": {
   "display_name": "Python 3.8.13 ('domino')",
   "language": "python",
   "name": "python3"
  },
  "language_info": {
   "codemirror_mode": {
    "name": "ipython",
    "version": 3
   },
   "file_extension": ".py",
   "mimetype": "text/x-python",
   "name": "python",
   "nbconvert_exporter": "python",
   "pygments_lexer": "ipython3",
   "version": "3.8.13"
  },
  "orig_nbformat": 4
 },
 "nbformat": 4,
 "nbformat_minor": 2
}
